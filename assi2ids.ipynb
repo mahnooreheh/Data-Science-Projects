{
  "nbformat": 4,
  "nbformat_minor": 0,
  "metadata": {
    "colab": {
      "provenance": []
    },
    "kernelspec": {
      "name": "python3",
      "display_name": "Python 3"
    },
    "language_info": {
      "name": "python"
    }
  },
  "cells": [
    {
      "cell_type": "code",
      "execution_count": 62,
      "metadata": {
        "collapsed": true,
        "id": "CIy_eTaKnCtr"
      },
      "outputs": [],
      "source": [
        "#IRIS DATA\n",
        "#Data Preprocessing\n",
        "import pandas as pd\n",
        "import numpy as np\n",
        "import seaborn as sns\n",
        "import matplotlib.pyplot as plt\n",
        "from sklearn.preprocessing import MinMaxScaler\n",
        "\n",
        "#2nd step: reading the dataset\n",
        "df = pd.read_csv('titanic.csv')"
      ]
    },
    {
      "cell_type": "code",
      "source": [
        "#printing data types\n",
        "print(\"Data type of Age: \",df.dtypes['Age'])\n",
        "print(\"Data type of Fare: \",df.dtypes['Fare'])\n",
        "print(\"Data type of SibSp: \",df.dtypes['SibSp'])"
      ],
      "metadata": {
        "id": "tWQeIQ16wSa3",
        "colab": {
          "base_uri": "https://localhost:8080/"
        },
        "outputId": "ebda58e8-37c9-4cce-8e2d-5eb2de2d52cd"
      },
      "execution_count": 63,
      "outputs": [
        {
          "output_type": "stream",
          "name": "stdout",
          "text": [
            "Data type of Age:  float64\n",
            "Data type of Fare:  float64\n",
            "Data type of SibSp:  int64\n"
          ]
        }
      ]
    },
    {
      "cell_type": "code",
      "source": [
        "#total instances\n",
        "print(\"instances in Age\",len(df['Age'].value_counts(dropna=True)))\n",
        "print(\"instances in SibsSp\",len(df['SibSp'].value_counts(dropna=True)))\n",
        "print(\"instances in Fare\",len(df['Fare'].value_counts(dropna=True)))"
      ],
      "metadata": {
        "colab": {
          "base_uri": "https://localhost:8080/"
        },
        "id": "aq-NixmKxAOn",
        "outputId": "1dea04ce-62d1-4e38-e1e0-87d02510cc86"
      },
      "execution_count": 66,
      "outputs": [
        {
          "output_type": "stream",
          "name": "stdout",
          "text": [
            "instances in Age 88\n",
            "instances in SibsSp 7\n",
            "instances in Fare 248\n"
          ]
        }
      ]
    },
    {
      "cell_type": "code",
      "source": [
        "#no of nulls\n",
        "print(\"No. of nulls in Age: \",df['Age'].isnull().sum())\n",
        "print(\"No. of nulls in Fare: \",df['Fare'].isnull().sum())\n",
        "print(\"No. of nulls in SibSp: \",df['SibSp'].isnull().sum())"
      ],
      "metadata": {
        "colab": {
          "base_uri": "https://localhost:8080/"
        },
        "id": "tG-vPReO8kTS",
        "outputId": "d4261aab-8f3d-4220-fa7e-eab46712dca1"
      },
      "execution_count": 68,
      "outputs": [
        {
          "output_type": "stream",
          "name": "stdout",
          "text": [
            "No. of nulls in Age:  177\n",
            "No. of nulls in Fare:  0\n",
            "No. of nulls in SibSp:  0\n"
          ]
        }
      ]
    },
    {
      "cell_type": "code",
      "source": [
        "#no of outliers\n",
        "num_outliers=0\n",
        "for i in df.columns:\n",
        "  if i in ['Age','Fare','SibSp']:\n",
        "    Q1 = df[i].quantile(0.25)\n",
        "    Q3 = df[i].quantile(0.75)\n",
        "    IQR = Q3-Q1\n",
        "    lower = Q1-1.5*IQR\n",
        "    higher = Q3+1.5*IQR\n",
        "    outliers = df[(df[i] < lower) | (df[i] > higher)]\n",
        "    num_outliers = outliers.shape[0]\n",
        "    print(f\"Number of outliers in {i}: {num_outliers}\")\n"
      ],
      "metadata": {
        "colab": {
          "base_uri": "https://localhost:8080/"
        },
        "id": "qM1pmWnJ9HSq",
        "outputId": "c6a94322-9ca7-44dc-81b6-f15572fdb57e"
      },
      "execution_count": 86,
      "outputs": [
        {
          "output_type": "stream",
          "name": "stdout",
          "text": [
            "Number of outliers in Age: 11\n",
            "Number of outliers in SibSp: 46\n",
            "Number of outliers in Fare: 116\n"
          ]
        }
      ]
    },
    {
      "cell_type": "code",
      "source": [
        "#min values\n",
        "for i in df.columns:\n",
        "  if i in ['Age','Fare','SibSp']:\n",
        "    mini = df[i].dropna().min()\n",
        "    print(f\"Min value in {i} is {mini}\")"
      ],
      "metadata": {
        "colab": {
          "base_uri": "https://localhost:8080/"
        },
        "id": "9OMOc7kNFX5o",
        "outputId": "481b52f6-a5b5-45a4-96d8-223760c63e68"
      },
      "execution_count": 91,
      "outputs": [
        {
          "output_type": "stream",
          "name": "stdout",
          "text": [
            "Min value in Age is 0.42\n",
            "Min value in SibSp is 0\n",
            "Min value in Fare is 0.0\n"
          ]
        }
      ]
    },
    {
      "cell_type": "code",
      "source": [
        "#max value\n",
        "for i in df.columns:\n",
        "  if i in ['Age','Fare','SibSp']:\n",
        "    maxi = df[i].dropna().max()\n",
        "    print(f\"Max value in {i} is {maxi}\")"
      ],
      "metadata": {
        "colab": {
          "base_uri": "https://localhost:8080/"
        },
        "id": "XT9e7khHGL6t",
        "outputId": "bbb7640d-9671-465b-e1f4-2c999a9cb738"
      },
      "execution_count": 92,
      "outputs": [
        {
          "output_type": "stream",
          "name": "stdout",
          "text": [
            "Min value in Age is 80.0\n",
            "Min value in SibSp is 8\n",
            "Min value in Fare is 512.3292\n"
          ]
        }
      ]
    },
    {
      "cell_type": "code",
      "source": [
        "for i in df.columns:\n",
        "  if i in ['Age','Fare','SibSp']:\n",
        "    modee = df[i].mode()\n",
        "    print(f\"Mode value in {i} is {modee}\")"
      ],
      "metadata": {
        "colab": {
          "base_uri": "https://localhost:8080/"
        },
        "id": "wkqu19WXG-3U",
        "outputId": "f20bf9bd-cb70-42e9-c065-378e64860b26"
      },
      "execution_count": 94,
      "outputs": [
        {
          "output_type": "stream",
          "name": "stdout",
          "text": [
            "Mode value in Age is 0    24.0\n",
            "Name: Age, dtype: float64\n",
            "Mode value in SibSp is 0    0\n",
            "Name: SibSp, dtype: int64\n",
            "Mode value in Fare is 0    8.05\n",
            "Name: Fare, dtype: float64\n"
          ]
        }
      ]
    },
    {
      "cell_type": "code",
      "source": [
        "for i in df.columns:\n",
        "  if i in ['Age','Fare','SibSp']:\n",
        "    mean = df[i].dropna().mean()\n",
        "    print(f\"Mean value in {i} is {mean}\")"
      ],
      "metadata": {
        "colab": {
          "base_uri": "https://localhost:8080/"
        },
        "id": "xf_chEkZHMa-",
        "outputId": "694106fd-7c42-4787-e27f-67baf4ae334a"
      },
      "execution_count": 95,
      "outputs": [
        {
          "output_type": "stream",
          "name": "stdout",
          "text": [
            "Min value in Age is 29.69911764705882\n",
            "Min value in SibSp is 0.5230078563411896\n",
            "Min value in Fare is 32.204207968574636\n"
          ]
        }
      ]
    },
    {
      "cell_type": "code",
      "source": [
        "for i in df.columns:\n",
        "  if i in ['Age','Fare','SibSp']:\n",
        "    med = df[i].dropna().median()\n",
        "    print(f\"Median value in {i} is {med}\")"
      ],
      "metadata": {
        "colab": {
          "base_uri": "https://localhost:8080/"
        },
        "id": "qwZukkyeHSjt",
        "outputId": "d0943018-37dd-4146-a1b2-4c460151c3b7"
      },
      "execution_count": 96,
      "outputs": [
        {
          "output_type": "stream",
          "name": "stdout",
          "text": [
            "Min value in Age is 28.0\n",
            "Min value in SibSp is 0.0\n",
            "Min value in Fare is 14.4542\n"
          ]
        }
      ]
    },
    {
      "cell_type": "code",
      "source": [
        "for i in df.columns:\n",
        "  if i in ['Age','Fare','SibSp']:\n",
        "    vari = df[i].dropna().var()\n",
        "    print(f\"varience in {i} is {vari}\")"
      ],
      "metadata": {
        "colab": {
          "base_uri": "https://localhost:8080/"
        },
        "id": "gw5dqa2xHWrw",
        "outputId": "d190dce4-5147-4cd9-cb8a-19f736e8f2da"
      },
      "execution_count": 100,
      "outputs": [
        {
          "output_type": "stream",
          "name": "stdout",
          "text": [
            "varience in Age is 211.0191247463081\n",
            "varience in SibSp is 1.2160430774662894\n",
            "varience in Fare is 2469.436845743117\n"
          ]
        }
      ]
    },
    {
      "cell_type": "code",
      "source": [
        "for i in df.columns:\n",
        "  if i in ['Age','Fare','SibSp']:\n",
        "    std = df[i].std()\n",
        "    print(f\"Standard deviation in {i} is {std}\")"
      ],
      "metadata": {
        "colab": {
          "base_uri": "https://localhost:8080/"
        },
        "id": "0hHRxqLwHsvB",
        "outputId": "cefa33e1-e8b4-42e5-91a5-ec06d06f9286"
      },
      "execution_count": 101,
      "outputs": [
        {
          "output_type": "stream",
          "name": "stdout",
          "text": [
            "Standard deviation in Age is 14.526497332334044\n",
            "Standard deviation in SibSp is 1.1027434322934275\n",
            "Standard deviation in Fare is 49.693428597180905\n"
          ]
        }
      ]
    }
  ]
}